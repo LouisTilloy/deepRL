{
 "cells": [
  {
   "cell_type": "code",
   "execution_count": 2,
   "metadata": {},
   "outputs": [
    {
     "name": "stdout",
     "output_type": "stream",
     "text": [
      "[ 3. 15.]\n"
     ]
    }
   ],
   "source": [
    "import tensorflow as tf\n",
    "import numpy as np\n",
    "\n",
    "a = tf.constant(np.array([[1, 2, 3],\n",
    "                          [4, 15, 6]]), dtype=tf.float32)\n",
    "a_max = tf.reduce_max(a, axis=1)\n",
    "\n",
    "with tf.Session() as sess:\n",
    "    print(a_max.eval())"
   ]
  },
  {
   "cell_type": "code",
   "execution_count": 2,
   "metadata": {},
   "outputs": [
    {
     "name": "stdout",
     "output_type": "stream",
     "text": [
      "[2 0]\n",
      "[[False False  True]\n",
      " [ True False False]]\n",
      "[1 2]\n"
     ]
    }
   ],
   "source": [
    "import tensorflow as tf\n",
    "import numpy as np\n",
    "\n",
    "target_q_values = tf.constant(np.array([[2, 4, 1],\n",
    "                                        [2, 3, 4]]))\n",
    "q_values_next = tf.constant(np.array([[1, 2, 3],\n",
    "                                      [6, 5, 4]]))\n",
    "\n",
    "argmax_q_values = tf.argmax(q_values_next, axis=1)\n",
    "mask = tf.one_hot(argmax_q_values, depth=3, dtype=tf.bool, on_value=True, off_value=False)\n",
    "max_q_values = tf.boolean_mask(target_q_values, mask)\n",
    "\n",
    "with tf.Session() as sess:\n",
    "    print(argmax_q_values.eval())\n",
    "    print(mask.eval())\n",
    "    print(max_q_values.eval())"
   ]
  }
 ],
 "metadata": {
  "kernelspec": {
   "display_name": "Python 3",
   "language": "python",
   "name": "python3"
  },
  "language_info": {
   "codemirror_mode": {
    "name": "ipython",
    "version": 3
   },
   "file_extension": ".py",
   "mimetype": "text/x-python",
   "name": "python",
   "nbconvert_exporter": "python",
   "pygments_lexer": "ipython3",
   "version": "3.6.5"
  }
 },
 "nbformat": 4,
 "nbformat_minor": 2
}
